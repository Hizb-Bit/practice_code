{
 "cells": [
  {
   "cell_type": "code",
   "execution_count": 1,
   "id": "9bfb8dbe-f9ec-45d1-86f8-0b0ebe22ce8e",
   "metadata": {},
   "outputs": [
    {
     "name": "stdin",
     "output_type": "stream",
     "text": [
      "Enter time in seconds:  7\n"
     ]
    },
    {
     "name": "stdout",
     "output_type": "stream",
     "text": [
      "Time's up!\n"
     ]
    }
   ],
   "source": [
    "#Countdown Timer\n",
    "\n",
    "import time\n",
    "t = int (input(\"Enter time in seconds: \"))\n",
    "while t:\n",
    "    mins, secs = divmod(t, 60)\n",
    "    timer = '{:02d}:{:02d}'.format(mins, secs)\n",
    "    print(timer, end=\"\\r\")\n",
    "    time.sleep(1)\n",
    "    t -= 1\n",
    "\n",
    "print(\"Time's up!\")"
   ]
  },
  {
   "cell_type": "code",
   "execution_count": null,
   "id": "3467db2b-09b6-48bb-90b3-d0c626e88b22",
   "metadata": {},
   "outputs": [],
   "source": []
  }
 ],
 "metadata": {
  "kernelspec": {
   "display_name": "Python 3 (ipykernel)",
   "language": "python",
   "name": "python3"
  },
  "language_info": {
   "codemirror_mode": {
    "name": "ipython",
    "version": 3
   },
   "file_extension": ".py",
   "mimetype": "text/x-python",
   "name": "python",
   "nbconvert_exporter": "python",
   "pygments_lexer": "ipython3",
   "version": "3.12.7"
  }
 },
 "nbformat": 4,
 "nbformat_minor": 5
}
