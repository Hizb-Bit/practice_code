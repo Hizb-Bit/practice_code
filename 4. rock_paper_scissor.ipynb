{
 "cells": [
  {
   "cell_type": "code",
   "execution_count": 7,
   "id": "99ea7f1f-6efb-490b-bf5d-febafad4f64f",
   "metadata": {},
   "outputs": [
    {
     "name": "stdin",
     "output_type": "stream",
     "text": [
      " 'r', 'p', 's'  r\n"
     ]
    },
    {
     "name": "stdout",
     "output_type": "stream",
     "text": [
      "User choosed: r\n",
      "Computer Choosed: p\n",
      "Computer won\n"
     ]
    }
   ],
   "source": [
    "#Rock Paper Scissor Program\n",
    "\n",
    "import random\n",
    "user = input(\" 'r', 'p', 's' \")\n",
    "print(f\"User choosed: {user}\")\n",
    "c = random.choice(['r', 'p', 's'])\n",
    "print(f\"Computer Choosed: {c}\")\n",
    "if user == c:\n",
    "    print(\"It is a tie\")\n",
    "elif (user == 'r' and c == \"s\") or (user == 'p' and c == \"r\") or (user == 's' and c == \"p\"):\n",
    "    print(\"User won\")\n",
    "else:\n",
    "    print(\"Computer won\")"
   ]
  },
  {
   "cell_type": "code",
   "execution_count": null,
   "id": "4647a88d-486b-47da-9c79-198fcbba38da",
   "metadata": {},
   "outputs": [],
   "source": []
  }
 ],
 "metadata": {
  "kernelspec": {
   "display_name": "Python 3 (ipykernel)",
   "language": "python",
   "name": "python3"
  },
  "language_info": {
   "codemirror_mode": {
    "name": "ipython",
    "version": 3
   },
   "file_extension": ".py",
   "mimetype": "text/x-python",
   "name": "python",
   "nbconvert_exporter": "python",
   "pygments_lexer": "ipython3",
   "version": "3.12.7"
  }
 },
 "nbformat": 4,
 "nbformat_minor": 5
}
