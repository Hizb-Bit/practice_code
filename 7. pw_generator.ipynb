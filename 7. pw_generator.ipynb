{
 "cells": [
  {
   "cell_type": "code",
   "execution_count": 3,
   "id": "32a9be44-d041-4b12-81a0-35bdcf824d52",
   "metadata": {},
   "outputs": [
    {
     "name": "stdout",
     "output_type": "stream",
     "text": [
      "Welcome to pw maker\n"
     ]
    },
    {
     "name": "stdin",
     "output_type": "stream",
     "text": [
      "Enter length of pw:  6\n",
      "Input no of pws req:  8\n"
     ]
    },
    {
     "name": "stdout",
     "output_type": "stream",
     "text": [
      " 1. `?JpY~\n",
      " 2. Z|;H%v\n",
      " 3. 7}J54^\n",
      " 4. O9KuF=\n",
      " 5. WV+>ph\n",
      " 6. kS5]yG\n",
      " 7. !w_dTZ\n",
      " 8. iZe$QD\n"
     ]
    }
   ],
   "source": [
    "#Password Generator\n",
    "\n",
    "import string\n",
    "import random\n",
    "\n",
    "char_set= string.ascii_letters + string.digits + string.punctuation\n",
    "m = 1\n",
    "print(\"Welcome to pw maker\")\n",
    "k = int(input(\"Enter length of pw: \"))\n",
    "l = int(input(\"Input no of pws req: \"))\n",
    "for pwd in range(l):\n",
    "    randm = random.choices(char_set, k=k)\n",
    "    pw = ''.join(randm)\n",
    "    print(f\" {m}. {pw}\")\n",
    "    m += 1"
   ]
  },
  {
   "cell_type": "code",
   "execution_count": null,
   "id": "3b2513b6-568a-4ab6-b063-b8f3ee0dcb91",
   "metadata": {},
   "outputs": [],
   "source": []
  }
 ],
 "metadata": {
  "kernelspec": {
   "display_name": "Python 3 (ipykernel)",
   "language": "python",
   "name": "python3"
  },
  "language_info": {
   "codemirror_mode": {
    "name": "ipython",
    "version": 3
   },
   "file_extension": ".py",
   "mimetype": "text/x-python",
   "name": "python",
   "nbconvert_exporter": "python",
   "pygments_lexer": "ipython3",
   "version": "3.12.7"
  }
 },
 "nbformat": 4,
 "nbformat_minor": 5
}
