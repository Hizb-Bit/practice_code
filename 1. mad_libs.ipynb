{
 "cells": [
  {
   "cell_type": "code",
   "execution_count": 9,
   "id": "ce846222-cf7d-4af4-95cf-d0be42d8276d",
   "metadata": {},
   "outputs": [
    {
     "name": "stdin",
     "output_type": "stream",
     "text": [
      "Adjective:  Red\n",
      "Verb:  Swim\n",
      "Verb:  run\n",
      "Famous person:  Usain Bolt\n"
     ]
    },
    {
     "name": "stdout",
     "output_type": "stream",
     "text": [
      "Computer programming is so Red! It makes me so excited all the time because I love to Swim. Stay hydrated and run like you are Usain Bolt!\n"
     ]
    }
   ],
   "source": [
    "#Madlibs Project\n",
    "\n",
    "adj = input(\"Adjective: \")\n",
    "verb1 = input(\"Verb: \")\n",
    "verb2 = input(\"Verb: \")\n",
    "famous_person = input(\"Famous person: \")\n",
    "\n",
    "madlib = f\"Computer programming is so {adj}! It makes me so excited all the time because I love to {verb1}. \\\n",
    "Stay hydrated and {verb2} like you are {famous_person}!\"\n",
    "\n",
    "print(madlib)"
   ]
  },
  {
   "cell_type": "code",
   "execution_count": null,
   "id": "4549c9a8-8e73-4939-bd6c-0e6bd4d3090b",
   "metadata": {},
   "outputs": [],
   "source": []
  }
 ],
 "metadata": {
  "kernelspec": {
   "display_name": "Python 3 (ipykernel)",
   "language": "python",
   "name": "python3"
  },
  "language_info": {
   "codemirror_mode": {
    "name": "ipython",
    "version": 3
   },
   "file_extension": ".py",
   "mimetype": "text/x-python",
   "name": "python",
   "nbconvert_exporter": "python",
   "pygments_lexer": "ipython3",
   "version": "3.12.7"
  }
 },
 "nbformat": 4,
 "nbformat_minor": 5
}
