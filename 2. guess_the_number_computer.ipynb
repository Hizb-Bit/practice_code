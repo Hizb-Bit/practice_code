{
 "cells": [
  {
   "cell_type": "code",
   "execution_count": 11,
   "id": "9b4f6130-b6aa-4f35-aaf8-c4fbbfc254d9",
   "metadata": {},
   "outputs": [
    {
     "name": "stdin",
     "output_type": "stream",
     "text": [
      "Input Number: 6\n"
     ]
    },
    {
     "name": "stdout",
     "output_type": "stream",
     "text": [
      "Input no Large\n",
      "Input no small\n",
      "Input no Large\n",
      "Input no Large\n",
      "Input no Large\n",
      "Input no Large\n",
      "Input no Large\n",
      "Input no Large\n",
      "Input no small\n",
      "Input no Large\n",
      "Input no Large\n",
      "Input no Large\n",
      "Input no Large\n",
      "Input no Large\n",
      "Input no Large\n",
      "Correrct number is 6\n",
      "16\n"
     ]
    }
   ],
   "source": [
    "#Guess the number - Computer\n",
    "\n",
    "import random\n",
    "count = 0\n",
    "random_no = random.randint (1,10)\n",
    "\n",
    "while True:\n",
    "    try:\n",
    "        user_random = int(input(\"Input Number:\"))\n",
    "        break \n",
    "    except ValueError:\n",
    "        print(\"Invalid input. Please enter a number.\")\n",
    "        \n",
    "while random_no != user_random:\n",
    "    random_no = random.randint (1,10)\n",
    "    \n",
    "    if random_no == user_random:\n",
    "        print (f\"Correrct number is {user_random}\")\n",
    "    elif random_no > user_random:\n",
    "        print (\"Input no small\")\n",
    "    elif random_no < user_random:\n",
    "        print (\"Input no Large\")\n",
    "        \n",
    "    count += 1\n",
    "print(count)\n",
    "    "
   ]
  }
 ],
 "metadata": {
  "kernelspec": {
   "display_name": "Python 3 (ipykernel)",
   "language": "python",
   "name": "python3"
  },
  "language_info": {
   "codemirror_mode": {
    "name": "ipython",
    "version": 3
   },
   "file_extension": ".py",
   "mimetype": "text/x-python",
   "name": "python",
   "nbconvert_exporter": "python",
   "pygments_lexer": "ipython3",
   "version": "3.12.7"
  }
 },
 "nbformat": 4,
 "nbformat_minor": 5
}
