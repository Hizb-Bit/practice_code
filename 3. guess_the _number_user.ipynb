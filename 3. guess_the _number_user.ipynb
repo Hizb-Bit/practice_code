{
 "cells": [
  {
   "cell_type": "code",
   "execution_count": 43,
   "id": "cdf4ebcb-8e59-434b-b688-d09af15d98df",
   "metadata": {},
   "outputs": [
    {
     "name": "stdin",
     "output_type": "stream",
     "text": [
      "Guess the Number: 4\n"
     ]
    },
    {
     "name": "stdout",
     "output_type": "stream",
     "text": [
      "Input no small\n"
     ]
    },
    {
     "name": "stdin",
     "output_type": "stream",
     "text": [
      "Input number again: 6\n"
     ]
    },
    {
     "name": "stdout",
     "output_type": "stream",
     "text": [
      "Input no Large\n"
     ]
    },
    {
     "name": "stdin",
     "output_type": "stream",
     "text": [
      "Input number again: 5\n"
     ]
    },
    {
     "name": "stdout",
     "output_type": "stream",
     "text": [
      "Correrct number is 5\n"
     ]
    }
   ],
   "source": [
    "#Guess the number - User\n",
    "\n",
    "import random\n",
    "\n",
    "random_no = random.randint (1,10)\n",
    "\n",
    "while True:\n",
    "    try:\n",
    "        user_random = int(input(\"Guess the Number:\"))\n",
    "        break \n",
    "    except ValueError:\n",
    "        print(\"Invalid input. Please enter a number.\")\n",
    "\n",
    "while random_no != user_random:\n",
    "    if random_no > user_random:\n",
    "        print (\"Input no small\")\n",
    "    elif random_no < user_random:\n",
    "        print (\"Input no Large\")\n",
    "    user_random = int(input(\"Input number again:\"))\n",
    "\n",
    "print (f\"Correrct number is {user_random}\")\n",
    "    "
   ]
  },
  {
   "cell_type": "code",
   "execution_count": null,
   "id": "f2e98abe-66fd-4421-b321-9e496efae963",
   "metadata": {},
   "outputs": [],
   "source": []
  }
 ],
 "metadata": {
  "kernelspec": {
   "display_name": "Python 3 (ipykernel)",
   "language": "python",
   "name": "python3"
  },
  "language_info": {
   "codemirror_mode": {
    "name": "ipython",
    "version": 3
   },
   "file_extension": ".py",
   "mimetype": "text/x-python",
   "name": "python",
   "nbconvert_exporter": "python",
   "pygments_lexer": "ipython3",
   "version": "3.12.7"
  }
 },
 "nbformat": 4,
 "nbformat_minor": 5
}
